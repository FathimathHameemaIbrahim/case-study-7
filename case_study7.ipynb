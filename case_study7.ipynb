{
 "cells": [
  {
   "cell_type": "code",
   "execution_count": 1,
   "id": "115051e1",
   "metadata": {},
   "outputs": [],
   "source": [
    "# Importing libraries\n",
    "import pandas as pd\n",
    "import numpy as np\n",
    "import matplotlib.pyplot as plt\n",
    "import seaborn as sns"
   ]
  },
  {
   "cell_type": "markdown",
   "id": "e4538a76",
   "metadata": {},
   "source": [
    "# 1. Read the dataset to the python environment"
   ]
  },
  {
   "cell_type": "code",
   "execution_count": 2,
   "id": "bd81817c",
   "metadata": {},
   "outputs": [
    {
     "data": {
      "text/html": [
       "<div>\n",
       "<style scoped>\n",
       "    .dataframe tbody tr th:only-of-type {\n",
       "        vertical-align: middle;\n",
       "    }\n",
       "\n",
       "    .dataframe tbody tr th {\n",
       "        vertical-align: top;\n",
       "    }\n",
       "\n",
       "    .dataframe thead th {\n",
       "        text-align: right;\n",
       "    }\n",
       "</style>\n",
       "<table border=\"1\" class=\"dataframe\">\n",
       "  <thead>\n",
       "    <tr style=\"text-align: right;\">\n",
       "      <th></th>\n",
       "      <th>SL</th>\n",
       "      <th>SW</th>\n",
       "      <th>PL</th>\n",
       "      <th>PW</th>\n",
       "      <th>Classification</th>\n",
       "    </tr>\n",
       "  </thead>\n",
       "  <tbody>\n",
       "    <tr>\n",
       "      <th>0</th>\n",
       "      <td>5.1</td>\n",
       "      <td>3.5</td>\n",
       "      <td>1.4</td>\n",
       "      <td>0.2</td>\n",
       "      <td>Iris-setosa</td>\n",
       "    </tr>\n",
       "    <tr>\n",
       "      <th>1</th>\n",
       "      <td>4.9</td>\n",
       "      <td>3.0</td>\n",
       "      <td>1.4</td>\n",
       "      <td>0.2</td>\n",
       "      <td>Iris-setosa</td>\n",
       "    </tr>\n",
       "    <tr>\n",
       "      <th>2</th>\n",
       "      <td>NaN</td>\n",
       "      <td>3.2</td>\n",
       "      <td>1.3</td>\n",
       "      <td>0.2</td>\n",
       "      <td>Iris-setosa</td>\n",
       "    </tr>\n",
       "    <tr>\n",
       "      <th>3</th>\n",
       "      <td>4.6</td>\n",
       "      <td>3.1</td>\n",
       "      <td>1.5</td>\n",
       "      <td>0.2</td>\n",
       "      <td>Iris-setosa</td>\n",
       "    </tr>\n",
       "    <tr>\n",
       "      <th>4</th>\n",
       "      <td>5.0</td>\n",
       "      <td>3.6</td>\n",
       "      <td>1.4</td>\n",
       "      <td>0.2</td>\n",
       "      <td>Iris-setosa</td>\n",
       "    </tr>\n",
       "    <tr>\n",
       "      <th>...</th>\n",
       "      <td>...</td>\n",
       "      <td>...</td>\n",
       "      <td>...</td>\n",
       "      <td>...</td>\n",
       "      <td>...</td>\n",
       "    </tr>\n",
       "    <tr>\n",
       "      <th>145</th>\n",
       "      <td>6.7</td>\n",
       "      <td>3.0</td>\n",
       "      <td>5.2</td>\n",
       "      <td>2.3</td>\n",
       "      <td>Iris-virginica</td>\n",
       "    </tr>\n",
       "    <tr>\n",
       "      <th>146</th>\n",
       "      <td>6.3</td>\n",
       "      <td>2.5</td>\n",
       "      <td>5.0</td>\n",
       "      <td>1.9</td>\n",
       "      <td>Iris-virginica</td>\n",
       "    </tr>\n",
       "    <tr>\n",
       "      <th>147</th>\n",
       "      <td>6.5</td>\n",
       "      <td>3.0</td>\n",
       "      <td>NaN</td>\n",
       "      <td>2.0</td>\n",
       "      <td>Iris-virginica</td>\n",
       "    </tr>\n",
       "    <tr>\n",
       "      <th>148</th>\n",
       "      <td>6.2</td>\n",
       "      <td>3.4</td>\n",
       "      <td>5.4</td>\n",
       "      <td>2.3</td>\n",
       "      <td>Iris-virginica</td>\n",
       "    </tr>\n",
       "    <tr>\n",
       "      <th>149</th>\n",
       "      <td>5.9</td>\n",
       "      <td>3.0</td>\n",
       "      <td>5.1</td>\n",
       "      <td>1.8</td>\n",
       "      <td>Iris-virginica</td>\n",
       "    </tr>\n",
       "  </tbody>\n",
       "</table>\n",
       "<p>150 rows × 5 columns</p>\n",
       "</div>"
      ],
      "text/plain": [
       "      SL   SW   PL   PW  Classification\n",
       "0    5.1  3.5  1.4  0.2     Iris-setosa\n",
       "1    4.9  3.0  1.4  0.2     Iris-setosa\n",
       "2    NaN  3.2  1.3  0.2     Iris-setosa\n",
       "3    4.6  3.1  1.5  0.2     Iris-setosa\n",
       "4    5.0  3.6  1.4  0.2     Iris-setosa\n",
       "..   ...  ...  ...  ...             ...\n",
       "145  6.7  3.0  5.2  2.3  Iris-virginica\n",
       "146  6.3  2.5  5.0  1.9  Iris-virginica\n",
       "147  6.5  3.0  NaN  2.0  Iris-virginica\n",
       "148  6.2  3.4  5.4  2.3  Iris-virginica\n",
       "149  5.9  3.0  5.1  1.8  Iris-virginica\n",
       "\n",
       "[150 rows x 5 columns]"
      ]
     },
     "execution_count": 2,
     "metadata": {},
     "output_type": "execute_result"
    }
   ],
   "source": [
    "# Reading the dataset to the python environment\n",
    "data=pd.read_excel('iris (1).xls')\n",
    "data"
   ]
  },
  {
   "cell_type": "code",
   "execution_count": 3,
   "id": "6cd0688d",
   "metadata": {},
   "outputs": [
    {
     "data": {
      "text/plain": [
       "(150, 5)"
      ]
     },
     "execution_count": 3,
     "metadata": {},
     "output_type": "execute_result"
    }
   ],
   "source": [
    "# Checking the shape of the dataset\n",
    "data.shape"
   ]
  },
  {
   "cell_type": "code",
   "execution_count": 4,
   "id": "57f373cc",
   "metadata": {},
   "outputs": [
    {
     "data": {
      "text/plain": [
       "SL                7\n",
       "SW                6\n",
       "PL                6\n",
       "PW                0\n",
       "Classification    0\n",
       "dtype: int64"
      ]
     },
     "execution_count": 4,
     "metadata": {},
     "output_type": "execute_result"
    }
   ],
   "source": [
    "# Checking for null values\n",
    "data.isna().sum()"
   ]
  },
  {
   "cell_type": "code",
   "execution_count": 5,
   "id": "8f00cf30",
   "metadata": {},
   "outputs": [
    {
     "data": {
      "text/plain": [
       "SL                35\n",
       "SW                23\n",
       "PL                43\n",
       "PW                22\n",
       "Classification     3\n",
       "dtype: int64"
      ]
     },
     "execution_count": 5,
     "metadata": {},
     "output_type": "execute_result"
    }
   ],
   "source": [
    "# Checking for unique values in each column\n",
    "data.nunique()"
   ]
  },
  {
   "cell_type": "code",
   "execution_count": 6,
   "id": "47807ae7",
   "metadata": {},
   "outputs": [
    {
     "name": "stdout",
     "output_type": "stream",
     "text": [
      "<class 'pandas.core.frame.DataFrame'>\n",
      "RangeIndex: 150 entries, 0 to 149\n",
      "Data columns (total 5 columns):\n",
      " #   Column          Non-Null Count  Dtype  \n",
      "---  ------          --------------  -----  \n",
      " 0   SL              143 non-null    float64\n",
      " 1   SW              144 non-null    float64\n",
      " 2   PL              144 non-null    float64\n",
      " 3   PW              150 non-null    float64\n",
      " 4   Classification  150 non-null    object \n",
      "dtypes: float64(4), object(1)\n",
      "memory usage: 6.0+ KB\n"
     ]
    }
   ],
   "source": [
    "# Checking some more detailed information\n",
    "data.info()"
   ]
  },
  {
   "cell_type": "markdown",
   "id": "80dd3ac8",
   "metadata": {},
   "source": [
    "# 2. Do necessary pre-processing steps"
   ]
  },
  {
   "cell_type": "markdown",
   "id": "b4b229f6",
   "metadata": {},
   "source": [
    "### Filling missing values"
   ]
  },
  {
   "cell_type": "code",
   "execution_count": 7,
   "id": "a38f3b3f",
   "metadata": {},
   "outputs": [
    {
     "data": {
      "image/png": "[encoded data removed]",
      "text/plain": [
       "<Figure size 1080x720 with 4 Axes>"
      ]
     },
     "metadata": {
      "needs_background": "light"
     },
     "output_type": "display_data"
    }
   ],
   "source": [
    "# Plotting the frequency graph\n",
    "freqgraph = data.select_dtypes(include=['float64'])\n",
    "freqgraph.hist(figsize=(15,10))\n",
    "plt.show()"
   ]
  },
  {
   "cell_type": "code",
   "execution_count": 8,
   "id": "28fd341b",
   "metadata": {},
   "outputs": [],
   "source": [
    "data = data.fillna(method='ffill')"
   ]
  },
  {
   "cell_type": "code",
   "execution_count": 9,
   "id": "82c2300a",
   "metadata": {},
   "outputs": [
    {
     "data": {
      "text/plain": [
       "SL                0\n",
       "SW                0\n",
       "PL                0\n",
       "PW                0\n",
       "Classification    0\n",
       "dtype: int64"
      ]
     },
     "execution_count": 9,
     "metadata": {},
     "output_type": "execute_result"
    }
   ],
   "source": [
    "# Checking for null values\n",
    "data.isna().sum()"
   ]
  },
  {
   "cell_type": "markdown",
   "id": "9ce4df8b",
   "metadata": {},
   "source": [
    "### Outlier detection"
   ]
  },
  {
   "cell_type": "code",
   "execution_count": 10,
   "id": "fe299b2b",
   "metadata": {},
   "outputs": [
    {
     "data": {
      "text/plain": [
       "Text(0.5, 1.0, 'Box plot of Sepal Length')"
      ]
     },
     "execution_count": 10,
     "metadata": {},
     "output_type": "execute_result"
    },
    {
     "data": {
      "image/png": "[encoded data removed]",
      "text/plain": [
       "<Figure size 432x288 with 1 Axes>"
      ]
     },
     "metadata": {
      "needs_background": "light"
     },
     "output_type": "display_data"
    }
   ],
   "source": [
    "# Plotting the Box plot of SL\n",
    "plt.boxplot(data['SL'])\n",
    "plt.title('Box plot of Sepal Length')"
   ]
  },
  {
   "cell_type": "markdown",
   "id": "7a0b1b8e",
   "metadata": {},
   "source": [
    "No outlier is detected for sepal length."
   ]
  },
  {
   "cell_type": "code",
   "execution_count": 11,
   "id": "299d55f2",
   "metadata": {},
   "outputs": [
    {
     "data": {
      "text/plain": [
       "Text(0.5, 1.0, 'Box plot of Sepal width')"
      ]
     },
     "execution_count": 11,
     "metadata": {},
     "output_type": "execute_result"
    },
    {
     "data": {
      "image/png": "[encoded data removed]",
      "text/plain": [
       "<Figure size 432x288 with 1 Axes>"
      ]
     },
     "metadata": {
      "needs_background": "light"
     },
     "output_type": "display_data"
    }
   ],
   "source": [
    "# Plotting the Box plot of SW\n",
    "plt.boxplot(data['SW'])\n",
    "plt.title('Box plot of Sepal width')"
   ]
  },
  {
   "cell_type": "code",
   "execution_count": 12,
   "id": "f03edd5a",
   "metadata": {},
   "outputs": [],
   "source": [
    "# Calculating quantiles\n",
    "Q1 = np.percentile(data['SW'], 25, interpolation='midpoint')\n",
    "Q2 = np.percentile(data['SW'], 50, interpolation='midpoint')\n",
    "Q3 = np.percentile(data['SW'], 75, interpolation='midpoint')\n",
    "\n",
    "# Calculating lower limit and upper limit\n",
    "IQR = Q3-Q1\n",
    "\n",
    "low_limit = Q1-1.5*IQR\n",
    "up_limit = Q3+1.5*IQR"
   ]
  },
  {
   "cell_type": "code",
   "execution_count": 13,
   "id": "f60e657c",
   "metadata": {},
   "outputs": [
    {
     "data": {
      "text/plain": [
       "[4.4, 4.1, 4.2, 2.0]"
      ]
     },
     "execution_count": 13,
     "metadata": {},
     "output_type": "execute_result"
    }
   ],
   "source": [
    "# Calculating outliers using for loop\n",
    "outlier = []\n",
    "for x in data['SW']:\n",
    "    if ((x>up_limit) or (x<low_limit)):\n",
    "        outlier.append(x)\n",
    "        \n",
    "outlier"
   ]
  },
  {
   "cell_type": "code",
   "execution_count": 14,
   "id": "bd30bc7f",
   "metadata": {},
   "outputs": [
    {
     "data": {
      "text/plain": [
       "Int64Index([15, 32, 33], dtype='int64')"
      ]
     },
     "execution_count": 14,
     "metadata": {},
     "output_type": "execute_result"
    }
   ],
   "source": [
    "# Getting the index locations of outliers\n",
    "ind1 = data['SW']>up_limit\n",
    "index = data.loc[ind1].index\n",
    "index"
   ]
  },
  {
   "cell_type": "code",
   "execution_count": 15,
   "id": "bafa3a0a",
   "metadata": {},
   "outputs": [],
   "source": [
    "# Dropping outliers\n",
    "data.drop([ 15, 32, 33], inplace=True)"
   ]
  },
  {
   "cell_type": "code",
   "execution_count": 16,
   "id": "38db9bb3",
   "metadata": {},
   "outputs": [
    {
     "data": {
      "text/plain": [
       "Text(0.5, 1.0, 'Box plot of Sepal width')"
      ]
     },
     "execution_count": 16,
     "metadata": {},
     "output_type": "execute_result"
    },
    {
     "data": {
      "image/png": "[encoded data removed]",
      "text/plain": [
       "<Figure size 432x288 with 1 Axes>"
      ]
     },
     "metadata": {
      "needs_background": "light"
     },
     "output_type": "display_data"
    }
   ],
   "source": [
    "# Plotting the Box plot of SW\n",
    "plt.boxplot(data['SW'])\n",
    "plt.title('Box plot of Sepal width')"
   ]
  },
  {
   "cell_type": "code",
   "execution_count": 17,
   "id": "a437b45d",
   "metadata": {},
   "outputs": [
    {
     "data": {
      "text/plain": [
       "Text(0.5, 1.0, 'Box plot of Petal length')"
      ]
     },
     "execution_count": 17,
     "metadata": {},
     "output_type": "execute_result"
    },
    {
     "data": {
      "image/png": "[encoded data removed]",
      "text/plain": [
       "<Figure size 432x288 with 1 Axes>"
      ]
     },
     "metadata": {
      "needs_background": "light"
     },
     "output_type": "display_data"
    }
   ],
   "source": [
    "# Plotting the Box plot of PL\n",
    "plt.boxplot(data['PL'])\n",
    "plt.title('Box plot of Petal length')"
   ]
  },
  {
   "cell_type": "markdown",
   "id": "dbd8098d",
   "metadata": {},
   "source": [
    "No outlier is detected for petal length."
   ]
  },
  {
   "cell_type": "code",
   "execution_count": 18,
   "id": "d0c39f0a",
   "metadata": {},
   "outputs": [
    {
     "data": {
      "text/plain": [
       "Text(0.5, 1.0, 'Box plot of Petal width')"
      ]
     },
     "execution_count": 18,
     "metadata": {},
     "output_type": "execute_result"
    },
    {
     "data": {
      "image/png": "[encoded data removed]",
      "text/plain": [
       "<Figure size 432x288 with 1 Axes>"
      ]
     },
     "metadata": {
      "needs_background": "light"
     },
     "output_type": "display_data"
    }
   ],
   "source": [
    "# Plotting the Box plot of PW\n",
    "plt.boxplot(data['PW'])\n",
    "plt.title('Box plot of Petal width')"
   ]
  },
  {
   "cell_type": "markdown",
   "id": "d5896046",
   "metadata": {},
   "source": [
    "No outlier is detected for petal width."
   ]
  },
  {
   "cell_type": "markdown",
   "id": "322968e3",
   "metadata": {},
   "source": [
    "### One hot encoding"
   ]
  },
  {
   "cell_type": "code",
   "execution_count": 19,
   "id": "c3efa1e7",
   "metadata": {},
   "outputs": [
    {
     "data": {
      "text/plain": [
       "3"
      ]
     },
     "execution_count": 19,
     "metadata": {},
     "output_type": "execute_result"
    }
   ],
   "source": [
    "# Checking for unique values in the column 'Classification'\n",
    "data.Classification.nunique()"
   ]
  },
  {
   "cell_type": "code",
   "execution_count": 20,
   "id": "c1fbe984",
   "metadata": {},
   "outputs": [
    {
     "data": {
      "text/html": [
       "<div>\n",
       "<style scoped>\n",
       "    .dataframe tbody tr th:only-of-type {\n",
       "        vertical-align: middle;\n",
       "    }\n",
       "\n",
       "    .dataframe tbody tr th {\n",
       "        vertical-align: top;\n",
       "    }\n",
       "\n",
       "    .dataframe thead th {\n",
       "        text-align: right;\n",
       "    }\n",
       "</style>\n",
       "<table border=\"1\" class=\"dataframe\">\n",
       "  <thead>\n",
       "    <tr style=\"text-align: right;\">\n",
       "      <th></th>\n",
       "      <th>SL</th>\n",
       "      <th>SW</th>\n",
       "      <th>PL</th>\n",
       "      <th>PW</th>\n",
       "      <th>Classification_Iris-setosa</th>\n",
       "      <th>Classification_Iris-versicolor</th>\n",
       "      <th>Classification_Iris-virginica</th>\n",
       "    </tr>\n",
       "  </thead>\n",
       "  <tbody>\n",
       "    <tr>\n",
       "      <th>0</th>\n",
       "      <td>5.1</td>\n",
       "      <td>3.5</td>\n",
       "      <td>1.4</td>\n",
       "      <td>0.2</td>\n",
       "      <td>1</td>\n",
       "      <td>0</td>\n",
       "      <td>0</td>\n",
       "    </tr>\n",
       "    <tr>\n",
       "      <th>1</th>\n",
       "      <td>4.9</td>\n",
       "      <td>3.0</td>\n",
       "      <td>1.4</td>\n",
       "      <td>0.2</td>\n",
       "      <td>1</td>\n",
       "      <td>0</td>\n",
       "      <td>0</td>\n",
       "    </tr>\n",
       "    <tr>\n",
       "      <th>2</th>\n",
       "      <td>4.9</td>\n",
       "      <td>3.2</td>\n",
       "      <td>1.3</td>\n",
       "      <td>0.2</td>\n",
       "      <td>1</td>\n",
       "      <td>0</td>\n",
       "      <td>0</td>\n",
       "    </tr>\n",
       "    <tr>\n",
       "      <th>3</th>\n",
       "      <td>4.6</td>\n",
       "      <td>3.1</td>\n",
       "      <td>1.5</td>\n",
       "      <td>0.2</td>\n",
       "      <td>1</td>\n",
       "      <td>0</td>\n",
       "      <td>0</td>\n",
       "    </tr>\n",
       "    <tr>\n",
       "      <th>4</th>\n",
       "      <td>5.0</td>\n",
       "      <td>3.6</td>\n",
       "      <td>1.4</td>\n",
       "      <td>0.2</td>\n",
       "      <td>1</td>\n",
       "      <td>0</td>\n",
       "      <td>0</td>\n",
       "    </tr>\n",
       "  </tbody>\n",
       "</table>\n",
       "</div>"
      ],
      "text/plain": [
       "    SL   SW   PL   PW  Classification_Iris-setosa  \\\n",
       "0  5.1  3.5  1.4  0.2                           1   \n",
       "1  4.9  3.0  1.4  0.2                           1   \n",
       "2  4.9  3.2  1.3  0.2                           1   \n",
       "3  4.6  3.1  1.5  0.2                           1   \n",
       "4  5.0  3.6  1.4  0.2                           1   \n",
       "\n",
       "   Classification_Iris-versicolor  Classification_Iris-virginica  \n",
       "0                               0                              0  \n",
       "1                               0                              0  \n",
       "2                               0                              0  \n",
       "3                               0                              0  \n",
       "4                               0                              0  "
      ]
     },
     "execution_count": 20,
     "metadata": {},
     "output_type": "execute_result"
    }
   ],
   "source": [
    "# Converting categorical data into dummy\n",
    "data = pd.get_dummies(data)\n",
    "data.head()"
   ]
  },
  {
   "cell_type": "code",
   "execution_count": 21,
   "id": "28ade099",
   "metadata": {},
   "outputs": [
    {
     "data": {
      "text/plain": [
       "<AxesSubplot:>"
      ]
     },
     "execution_count": 21,
     "metadata": {},
     "output_type": "execute_result"
    },
    {
     "data": {
      "image/png": "[encoded data removed]",
      "text/plain": [
       "<Figure size 1440x576 with 2 Axes>"
      ]
     },
     "metadata": {
      "needs_background": "light"
     },
     "output_type": "display_data"
    }
   ],
   "source": [
    "# Plotting the correlation matrix\n",
    "corrmatrix = data.corr()\n",
    "plt.subplots(figsize=(20,8))\n",
    "sns.heatmap(corrmatrix, vmin=-1.0, vmax=1.0, annot=True, linewidths=0.2)"
   ]
  },
  {
   "cell_type": "code",
   "execution_count": 22,
   "id": "9d696629",
   "metadata": {},
   "outputs": [],
   "source": [
    "# Seperating input features and target\n",
    "y = data['PL']\n",
    "X = data.drop('PL', axis=1)"
   ]
  },
  {
   "cell_type": "code",
   "execution_count": 23,
   "id": "feb2dd53",
   "metadata": {},
   "outputs": [
    {
     "name": "stdout",
     "output_type": "stream",
     "text": [
      "MSE is: 0.08052308066798758\n",
      "R squared value is : 0.9716308199450439\n"
     ]
    }
   ],
   "source": [
    "# Importing training test split from SciKit-Learn\n",
    "from sklearn.model_selection import train_test_split\n",
    "# Setting up training and testing sets\n",
    "X_train, X_test, y_train, y_test = train_test_split(X, y, random_state=42, test_size=0.2)\n",
    "\n",
    "# Importing linear model from SciKit-Learn\n",
    "from sklearn import linear_model\n",
    "# Training model\n",
    "lr = linear_model.LinearRegression()\n",
    "model = lr.fit(X_train, y_train)\n",
    "predictions = model.predict(X_test)\n",
    "\n",
    "# Calculating mean squared error\n",
    "from sklearn.metrics import mean_squared_error\n",
    "print('MSE is:',mean_squared_error(y_test,predictions))\n",
    "\n",
    "# Calculating R squared value\n",
    "from sklearn.metrics import r2_score\n",
    "print('R squared value is :', r2_score(y_test,predictions))"
   ]
  },
  {
   "cell_type": "markdown",
   "id": "59ec354e",
   "metadata": {},
   "source": [
    "### Standard scaling"
   ]
  },
  {
   "cell_type": "code",
   "execution_count": 24,
   "id": "521e4215",
   "metadata": {},
   "outputs": [
    {
     "data": {
      "text/html": [
       "<div>\n",
       "<style scoped>\n",
       "    .dataframe tbody tr th:only-of-type {\n",
       "        vertical-align: middle;\n",
       "    }\n",
       "\n",
       "    .dataframe tbody tr th {\n",
       "        vertical-align: top;\n",
       "    }\n",
       "\n",
       "    .dataframe thead th {\n",
       "        text-align: right;\n",
       "    }\n",
       "</style>\n",
       "<table border=\"1\" class=\"dataframe\">\n",
       "  <thead>\n",
       "    <tr style=\"text-align: right;\">\n",
       "      <th></th>\n",
       "      <th>SL</th>\n",
       "      <th>SW</th>\n",
       "      <th>PW</th>\n",
       "      <th>Classification_Iris-setosa</th>\n",
       "      <th>Classification_Iris-versicolor</th>\n",
       "      <th>Classification_Iris-virginica</th>\n",
       "    </tr>\n",
       "  </thead>\n",
       "  <tbody>\n",
       "    <tr>\n",
       "      <th>count</th>\n",
       "      <td>147.000000</td>\n",
       "      <td>147.000000</td>\n",
       "      <td>147.000000</td>\n",
       "      <td>147.000000</td>\n",
       "      <td>147.000000</td>\n",
       "      <td>147.000000</td>\n",
       "    </tr>\n",
       "    <tr>\n",
       "      <th>mean</th>\n",
       "      <td>5.866667</td>\n",
       "      <td>3.023810</td>\n",
       "      <td>1.218367</td>\n",
       "      <td>0.319728</td>\n",
       "      <td>0.340136</td>\n",
       "      <td>0.340136</td>\n",
       "    </tr>\n",
       "    <tr>\n",
       "      <th>std</th>\n",
       "      <td>0.849281</td>\n",
       "      <td>0.392801</td>\n",
       "      <td>0.757973</td>\n",
       "      <td>0.467965</td>\n",
       "      <td>0.475374</td>\n",
       "      <td>0.475374</td>\n",
       "    </tr>\n",
       "    <tr>\n",
       "      <th>min</th>\n",
       "      <td>4.300000</td>\n",
       "      <td>2.000000</td>\n",
       "      <td>0.100000</td>\n",
       "      <td>0.000000</td>\n",
       "      <td>0.000000</td>\n",
       "      <td>0.000000</td>\n",
       "    </tr>\n",
       "    <tr>\n",
       "      <th>25%</th>\n",
       "      <td>5.100000</td>\n",
       "      <td>2.800000</td>\n",
       "      <td>0.300000</td>\n",
       "      <td>0.000000</td>\n",
       "      <td>0.000000</td>\n",
       "      <td>0.000000</td>\n",
       "    </tr>\n",
       "    <tr>\n",
       "      <th>50%</th>\n",
       "      <td>5.800000</td>\n",
       "      <td>3.000000</td>\n",
       "      <td>1.300000</td>\n",
       "      <td>0.000000</td>\n",
       "      <td>0.000000</td>\n",
       "      <td>0.000000</td>\n",
       "    </tr>\n",
       "    <tr>\n",
       "      <th>75%</th>\n",
       "      <td>6.450000</td>\n",
       "      <td>3.200000</td>\n",
       "      <td>1.800000</td>\n",
       "      <td>1.000000</td>\n",
       "      <td>1.000000</td>\n",
       "      <td>1.000000</td>\n",
       "    </tr>\n",
       "    <tr>\n",
       "      <th>max</th>\n",
       "      <td>7.900000</td>\n",
       "      <td>4.000000</td>\n",
       "      <td>2.500000</td>\n",
       "      <td>1.000000</td>\n",
       "      <td>1.000000</td>\n",
       "      <td>1.000000</td>\n",
       "    </tr>\n",
       "  </tbody>\n",
       "</table>\n",
       "</div>"
      ],
      "text/plain": [
       "               SL          SW          PW  Classification_Iris-setosa  \\\n",
       "count  147.000000  147.000000  147.000000                  147.000000   \n",
       "mean     5.866667    3.023810    1.218367                    0.319728   \n",
       "std      0.849281    0.392801    0.757973                    0.467965   \n",
       "min      4.300000    2.000000    0.100000                    0.000000   \n",
       "25%      5.100000    2.800000    0.300000                    0.000000   \n",
       "50%      5.800000    3.000000    1.300000                    0.000000   \n",
       "75%      6.450000    3.200000    1.800000                    1.000000   \n",
       "max      7.900000    4.000000    2.500000                    1.000000   \n",
       "\n",
       "       Classification_Iris-versicolor  Classification_Iris-virginica  \n",
       "count                      147.000000                     147.000000  \n",
       "mean                         0.340136                       0.340136  \n",
       "std                          0.475374                       0.475374  \n",
       "min                          0.000000                       0.000000  \n",
       "25%                          0.000000                       0.000000  \n",
       "50%                          0.000000                       0.000000  \n",
       "75%                          1.000000                       1.000000  \n",
       "max                          1.000000                       1.000000  "
      ]
     },
     "execution_count": 24,
     "metadata": {},
     "output_type": "execute_result"
    }
   ],
   "source": [
    "# Statistical summary of X\n",
    "X.describe()"
   ]
  },
  {
   "cell_type": "code",
   "execution_count": 25,
   "id": "3282a2ff",
   "metadata": {},
   "outputs": [],
   "source": [
    "# Importing preprocessing for standard scaling\n",
    "from sklearn import preprocessing\n",
    "standardisation = preprocessing.StandardScaler()\n",
    "X = standardisation.fit_transform(X)"
   ]
  },
  {
   "cell_type": "code",
   "execution_count": 26,
   "id": "97cb3f85",
   "metadata": {},
   "outputs": [
    {
     "data": {
      "text/html": [
       "<div>\n",
       "<style scoped>\n",
       "    .dataframe tbody tr th:only-of-type {\n",
       "        vertical-align: middle;\n",
       "    }\n",
       "\n",
       "    .dataframe tbody tr th {\n",
       "        vertical-align: top;\n",
       "    }\n",
       "\n",
       "    .dataframe thead th {\n",
       "        text-align: right;\n",
       "    }\n",
       "</style>\n",
       "<table border=\"1\" class=\"dataframe\">\n",
       "  <thead>\n",
       "    <tr style=\"text-align: right;\">\n",
       "      <th></th>\n",
       "      <th>0</th>\n",
       "      <th>1</th>\n",
       "      <th>2</th>\n",
       "      <th>3</th>\n",
       "      <th>4</th>\n",
       "      <th>5</th>\n",
       "    </tr>\n",
       "  </thead>\n",
       "  <tbody>\n",
       "    <tr>\n",
       "      <th>count</th>\n",
       "      <td>1.470000e+02</td>\n",
       "      <td>1.470000e+02</td>\n",
       "      <td>1.470000e+02</td>\n",
       "      <td>1.470000e+02</td>\n",
       "      <td>1.470000e+02</td>\n",
       "      <td>1.470000e+02</td>\n",
       "    </tr>\n",
       "    <tr>\n",
       "      <th>mean</th>\n",
       "      <td>-7.466627e-16</td>\n",
       "      <td>3.621442e-16</td>\n",
       "      <td>-1.110223e-16</td>\n",
       "      <td>6.963440e-16</td>\n",
       "      <td>2.416812e-16</td>\n",
       "      <td>-3.172066e-16</td>\n",
       "    </tr>\n",
       "    <tr>\n",
       "      <th>std</th>\n",
       "      <td>1.003419e+00</td>\n",
       "      <td>1.003419e+00</td>\n",
       "      <td>1.003419e+00</td>\n",
       "      <td>1.003419e+00</td>\n",
       "      <td>1.003419e+00</td>\n",
       "      <td>1.003419e+00</td>\n",
       "    </tr>\n",
       "    <tr>\n",
       "      <th>min</th>\n",
       "      <td>-1.851004e+00</td>\n",
       "      <td>-2.615347e+00</td>\n",
       "      <td>-1.480515e+00</td>\n",
       "      <td>-6.855655e-01</td>\n",
       "      <td>-7.179582e-01</td>\n",
       "      <td>-7.179582e-01</td>\n",
       "    </tr>\n",
       "    <tr>\n",
       "      <th>25%</th>\n",
       "      <td>-9.058104e-01</td>\n",
       "      <td>-5.717271e-01</td>\n",
       "      <td>-1.215752e+00</td>\n",
       "      <td>-6.855655e-01</td>\n",
       "      <td>-7.179582e-01</td>\n",
       "      <td>-7.179582e-01</td>\n",
       "    </tr>\n",
       "    <tr>\n",
       "      <th>50%</th>\n",
       "      <td>-7.876612e-02</td>\n",
       "      <td>-6.082203e-02</td>\n",
       "      <td>1.080668e-01</td>\n",
       "      <td>-6.855655e-01</td>\n",
       "      <td>-7.179582e-01</td>\n",
       "      <td>-7.179582e-01</td>\n",
       "    </tr>\n",
       "    <tr>\n",
       "      <th>75%</th>\n",
       "      <td>6.892036e-01</td>\n",
       "      <td>4.500830e-01</td>\n",
       "      <td>7.699760e-01</td>\n",
       "      <td>1.458650e+00</td>\n",
       "      <td>1.392839e+00</td>\n",
       "      <td>1.392839e+00</td>\n",
       "    </tr>\n",
       "    <tr>\n",
       "      <th>max</th>\n",
       "      <td>2.402367e+00</td>\n",
       "      <td>2.493703e+00</td>\n",
       "      <td>1.696649e+00</td>\n",
       "      <td>1.458650e+00</td>\n",
       "      <td>1.392839e+00</td>\n",
       "      <td>1.392839e+00</td>\n",
       "    </tr>\n",
       "  </tbody>\n",
       "</table>\n",
       "</div>"
      ],
      "text/plain": [
       "                  0             1             2             3             4  \\\n",
       "count  1.470000e+02  1.470000e+02  1.470000e+02  1.470000e+02  1.470000e+02   \n",
       "mean  -7.466627e-16  3.621442e-16 -1.110223e-16  6.963440e-16  2.416812e-16   \n",
       "std    1.003419e+00  1.003419e+00  1.003419e+00  1.003419e+00  1.003419e+00   \n",
       "min   -1.851004e+00 -2.615347e+00 -1.480515e+00 -6.855655e-01 -7.179582e-01   \n",
       "25%   -9.058104e-01 -5.717271e-01 -1.215752e+00 -6.855655e-01 -7.179582e-01   \n",
       "50%   -7.876612e-02 -6.082203e-02  1.080668e-01 -6.855655e-01 -7.179582e-01   \n",
       "75%    6.892036e-01  4.500830e-01  7.699760e-01  1.458650e+00  1.392839e+00   \n",
       "max    2.402367e+00  2.493703e+00  1.696649e+00  1.458650e+00  1.392839e+00   \n",
       "\n",
       "                  5  \n",
       "count  1.470000e+02  \n",
       "mean  -3.172066e-16  \n",
       "std    1.003419e+00  \n",
       "min   -7.179582e-01  \n",
       "25%   -7.179582e-01  \n",
       "50%   -7.179582e-01  \n",
       "75%    1.392839e+00  \n",
       "max    1.392839e+00  "
      ]
     },
     "execution_count": 26,
     "metadata": {},
     "output_type": "execute_result"
    }
   ],
   "source": [
    "# Converting X into a Dataframe\n",
    "X = pd.DataFrame(X)\n",
    "X.describe()"
   ]
  },
  {
   "cell_type": "code",
   "execution_count": 27,
   "id": "7d00867a",
   "metadata": {},
   "outputs": [
    {
     "name": "stdout",
     "output_type": "stream",
     "text": [
      "MSE is: 0.08052308066798744\n",
      "R squared value is : 0.9716308199450439\n"
     ]
    }
   ],
   "source": [
    "# Setting up training and testing sets\n",
    "X_train, X_test, y_train, y_test = train_test_split(X, y, random_state=42, test_size=0.2)\n",
    "# Training model\n",
    "lr = linear_model.LinearRegression()\n",
    "model = lr.fit(X_train, y_train)\n",
    "predictions = model.predict(X_test)\n",
    "# Calculating mean squared error\n",
    "print('MSE is:',mean_squared_error(y_test,predictions))\n",
    "# Calculating R squared value\n",
    "print('R squared value is :', r2_score(y_test,predictions))"
   ]
  },
  {
   "cell_type": "markdown",
   "id": "3dbedfe4",
   "metadata": {},
   "source": [
    "Standard scaling does not have any effect in the data."
   ]
  },
  {
   "cell_type": "markdown",
   "id": "69e80437",
   "metadata": {},
   "source": [
    "# 3. Find out which classification model gives the best result to predict iris species.(also do random forest algorithm)"
   ]
  },
  {
   "cell_type": "markdown",
   "id": "97c8aea9",
   "metadata": {},
   "source": [
    "### Decision tree classifier¶"
   ]
  },
  {
   "cell_type": "code",
   "execution_count": 28,
   "id": "34005370",
   "metadata": {},
   "outputs": [],
   "source": [
    "# Converting testing and training values datatype to integer\n",
    "X_train = X_train.astype(int)\n",
    "y_train = y_train.astype(int)\n",
    "y_test = y_test.astype(int)"
   ]
  },
  {
   "cell_type": "code",
   "execution_count": 29,
   "id": "acc9a1a6",
   "metadata": {},
   "outputs": [
    {
     "data": {
      "text/plain": [
       "DecisionTreeClassifier()"
      ]
     },
     "execution_count": 29,
     "metadata": {},
     "output_type": "execute_result"
    }
   ],
   "source": [
    "# Decision tree classifier\n",
    "from sklearn.tree import DecisionTreeClassifier\n",
    "dt_model = DecisionTreeClassifier()\n",
    "\n",
    "dt_model.fit(X_train, y_train)"
   ]
  },
  {
   "cell_type": "code",
   "execution_count": 30,
   "id": "2703c65e",
   "metadata": {},
   "outputs": [
    {
     "name": "stdout",
     "output_type": "stream",
     "text": [
      "Accuracy is: 0.8\n"
     ]
    }
   ],
   "source": [
    "# Predicting the model\n",
    "from sklearn.metrics import confusion_matrix, accuracy_score, precision_score, recall_score, f1_score\n",
    "y_pred = dt_model.predict(X_test)\n",
    "# Printing accuracy of the model\n",
    "print('Accuracy is:', accuracy_score(y_test, y_pred))"
   ]
  },
  {
   "cell_type": "code",
   "execution_count": 31,
   "id": "a3cb57c0",
   "metadata": {},
   "outputs": [
    {
     "data": {
      "text/plain": [
       "1    11\n",
       "4    10\n",
       "5     6\n",
       "3     2\n",
       "6     1\n",
       "Name: PL, dtype: int64"
      ]
     },
     "execution_count": 31,
     "metadata": {},
     "output_type": "execute_result"
    }
   ],
   "source": [
    "# Counting the test value\n",
    "y_test.value_counts()"
   ]
  },
  {
   "cell_type": "code",
   "execution_count": 32,
   "id": "2175967d",
   "metadata": {},
   "outputs": [
    {
     "data": {
      "text/plain": [
       "array([[11,  0,  0,  0,  0],\n",
       "       [ 0,  0,  2,  0,  0],\n",
       "       [ 0,  2,  6,  2,  0],\n",
       "       [ 0,  0,  0,  6,  0],\n",
       "       [ 0,  0,  0,  0,  1]], dtype=int64)"
      ]
     },
     "execution_count": 32,
     "metadata": {},
     "output_type": "execute_result"
    }
   ],
   "source": [
    "# Getting confusion matrix from test and prediction values\n",
    "confusion_matrix(y_test, y_pred)"
   ]
  },
  {
   "cell_type": "markdown",
   "id": "d8f62e13",
   "metadata": {},
   "source": [
    "### SVM"
   ]
  },
  {
   "cell_type": "markdown",
   "id": "964b0071",
   "metadata": {},
   "source": [
    "#### Linear SVM"
   ]
  },
  {
   "cell_type": "code",
   "execution_count": 33,
   "id": "7353add5",
   "metadata": {},
   "outputs": [
    {
     "data": {
      "text/plain": [
       "SVC(kernel='linear')"
      ]
     },
     "execution_count": 33,
     "metadata": {},
     "output_type": "execute_result"
    }
   ],
   "source": [
    "# Linear classifier\n",
    "from sklearn.svm import SVC\n",
    "svm_linear = SVC(kernel='linear')\n",
    "svm_linear.fit(X_train, y_train)"
   ]
  },
  {
   "cell_type": "code",
   "execution_count": 34,
   "id": "ef2e0f5c",
   "metadata": {},
   "outputs": [
    {
     "name": "stdout",
     "output_type": "stream",
     "text": [
      "Accuracy is: 0.8\n"
     ]
    }
   ],
   "source": [
    "# Predicting the model\n",
    "y_pred = svm_linear.predict(X_test)\n",
    "# Printing accuracy of the model\n",
    "print('Accuracy is:', accuracy_score(y_test, y_pred))"
   ]
  },
  {
   "cell_type": "markdown",
   "id": "5f5cc81d",
   "metadata": {},
   "source": [
    "#### Polynomial svm"
   ]
  },
  {
   "cell_type": "code",
   "execution_count": 35,
   "id": "2a8cb848",
   "metadata": {},
   "outputs": [
    {
     "data": {
      "text/plain": [
       "SVC(kernel='poly')"
      ]
     },
     "execution_count": 35,
     "metadata": {},
     "output_type": "execute_result"
    }
   ],
   "source": [
    "# Polynomial classifier\n",
    "svm_poly = SVC(kernel='poly', degree=3)\n",
    "svm_poly.fit(X_train, y_train)"
   ]
  },
  {
   "cell_type": "code",
   "execution_count": 36,
   "id": "630dab1e",
   "metadata": {},
   "outputs": [
    {
     "name": "stdout",
     "output_type": "stream",
     "text": [
      "Accuracy is: 0.8666666666666667\n"
     ]
    }
   ],
   "source": [
    "# Predicting the model\n",
    "y_pred = svm_poly.predict(X_test)\n",
    "# Printing accuracy of the model\n",
    "print('Accuracy is:', accuracy_score(y_test, y_pred))"
   ]
  },
  {
   "cell_type": "markdown",
   "id": "d5faa215",
   "metadata": {},
   "source": [
    "#### Radial svm"
   ]
  },
  {
   "cell_type": "code",
   "execution_count": 37,
   "id": "0dd7a860",
   "metadata": {},
   "outputs": [
    {
     "data": {
      "text/plain": [
       "SVC()"
      ]
     },
     "execution_count": 37,
     "metadata": {},
     "output_type": "execute_result"
    }
   ],
   "source": [
    "# Radial classifier\n",
    "svm_radial = SVC(kernel='rbf')\n",
    "svm_radial.fit(X_train, y_train)"
   ]
  },
  {
   "cell_type": "code",
   "execution_count": 38,
   "id": "e2e636ae",
   "metadata": {},
   "outputs": [
    {
     "name": "stdout",
     "output_type": "stream",
     "text": [
      "Accuracy is: 0.8666666666666667\n"
     ]
    }
   ],
   "source": [
    "# Predicting the model\n",
    "y_pred = svm_radial.predict(X_test)\n",
    "# Printing accuracy of the model\n",
    "print('Accuracy is:', accuracy_score(y_test, y_pred))"
   ]
  },
  {
   "cell_type": "markdown",
   "id": "7f2a8868",
   "metadata": {},
   "source": [
    "### Random Forest Classifier"
   ]
  },
  {
   "cell_type": "code",
   "execution_count": 39,
   "id": "a7a7cc13",
   "metadata": {},
   "outputs": [],
   "source": [
    "# Random Forest Classifier\n",
    "from sklearn.ensemble import RandomForestClassifier\n",
    "rf = RandomForestClassifier()\n",
    "rf.fit(X_train, y_train)\n",
    "y_pred = rf.predict(X_test)"
   ]
  },
  {
   "cell_type": "code",
   "execution_count": 40,
   "id": "6d22d0d5",
   "metadata": {},
   "outputs": [
    {
     "name": "stdout",
     "output_type": "stream",
     "text": [
      "Accuracy is: 0.8\n"
     ]
    }
   ],
   "source": [
    "# Printing accuracy of the model\n",
    "print('Accuracy is:', accuracy_score(y_test, y_pred))"
   ]
  },
  {
   "cell_type": "markdown",
   "id": "1ce713e4",
   "metadata": {},
   "source": [
    "Among Decision tree classifier, svm, and Random forest classifier; the radial svm and polynomial svm gives the highest accuracy of 86%."
   ]
  },
  {
   "cell_type": "code",
   "execution_count": null,
   "id": "1316bb8d",
   "metadata": {},
   "outputs": [],
   "source": []
  }
 ],
 "metadata": {
  "kernelspec": {
   "display_name": "Python 3",
   "language": "python",
   "name": "python3"
  },
  "language_info": {
   "codemirror_mode": {
    "name": "ipython",
    "version": 3
   },
   "file_extension": ".py",
   "mimetype": "text/x-python",
   "name": "python",
   "nbconvert_exporter": "python",
   "pygments_lexer": "ipython3",
   "version": "3.8.8"
  }
 },
 "nbformat": 4,
 "nbformat_minor": 5
}
